{
 "cells": [
  {
   "cell_type": "code",
   "execution_count": 3,
   "metadata": {},
   "outputs": [],
   "source": [
    "# display board\n",
    "# board with values\n",
    "# user input - includes user choice and a number\n",
    "# update board\n",
    "# check if the game is finished or not"
   ]
  },
  {
   "cell_type": "code",
   "execution_count": 1,
   "metadata": {},
   "outputs": [],
   "source": [
    "from IPython.display import clear_output\n",
    "def display_board(board):\n",
    "    clear_output()\n",
    "    print('   |   |')\n",
    "    print(' ' + board[7] + ' | ' + board[8] + ' | ' + board[9])\n",
    "    print('   |   |')\n",
    "    print('-----------')\n",
    "    print('   |   |')\n",
    "    print(' ' + board[4] + ' | ' + board[5] + ' | ' + board[6])\n",
    "    print('   |   |')\n",
    "    print('-----------')\n",
    "    print('   |   |')\n",
    "    print(' ' + board[1] + ' | ' + board[2] + ' | ' + board[3])\n",
    "    print('   |   |')\n",
    "# board = ['#','X','O','X','O','X','O','X','O','X']\n",
    "# display_board(board)"
   ]
  },
  {
   "cell_type": "code",
   "execution_count": 2,
   "metadata": {},
   "outputs": [],
   "source": [
    "def choose_player():\n",
    "    player1 = ''\n",
    "    while not (player1 == 'X' or player1 == 'O'):\n",
    "        player1 = input(\"Player1: What do u want to be X or O: \")\n",
    "    if player1 == 'X':\n",
    "        player2 = 'O'\n",
    "    else:\n",
    "        player2 = 'X'\n",
    "    return player1,player2"
   ]
  },
  {
   "cell_type": "code",
   "execution_count": 3,
   "metadata": {},
   "outputs": [],
   "source": [
    "def player_input(board,marker,position):\n",
    "    board[position] = marker"
   ]
  },
  {
   "cell_type": "code",
   "execution_count": 4,
   "metadata": {},
   "outputs": [],
   "source": [
    "def check_winner(board,mark):\n",
    "    return ((board[7] == mark and board[8] == mark and board[9] == mark) or # across the top\n",
    "    (board[4] == mark and board[5] == mark and board[6] == mark) or # across the middle\n",
    "    (board[1] == mark and board[2] == mark and board[3] == mark) or # across the bottom\n",
    "    (board[7] == mark and board[4] == mark and board[1] == mark) or # down the middle\n",
    "    (board[8] == mark and board[5] == mark and board[2] == mark) or # down the middle\n",
    "    (board[9] == mark and board[6] == mark and board[3] == mark) or # down the right side\n",
    "    (board[7] == mark and board[5] == mark and board[3] == mark) or # diagonal\n",
    "    (board[9] == mark and board[5] == mark and board[1] == mark))"
   ]
  },
  {
   "cell_type": "code",
   "execution_count": 5,
   "metadata": {},
   "outputs": [],
   "source": [
    "def check_space(board,position):\n",
    "    return board[position] == \" \""
   ]
  },
  {
   "cell_type": "code",
   "execution_count": 6,
   "metadata": {},
   "outputs": [],
   "source": [
    "def full_board_check(board):\n",
    "    for i in range(1,10):\n",
    "        if check_space(board,i):\n",
    "            return False\n",
    "    return True        "
   ]
  },
  {
   "cell_type": "code",
   "execution_count": 7,
   "metadata": {},
   "outputs": [],
   "source": [
    "def player_choice(board):\n",
    "    position = 0\n",
    "    while position not in [1,2,3,4,5,6,7,8,9] or not check_space(board,position):\n",
    "        position = int(input(\"Choose a position from 1 to 9\"))\n",
    "    return position"
   ]
  },
  {
   "cell_type": "code",
   "execution_count": 8,
   "metadata": {},
   "outputs": [],
   "source": [
    "def play_again():\n",
    "    return input(\"Do you want to play again? Yes or No:\").lower().startswith('y')"
   ]
  },
  {
   "cell_type": "code",
   "execution_count": 10,
   "metadata": {},
   "outputs": [
    {
     "name": "stdout",
     "output_type": "stream",
     "text": [
      "   |   |\n",
      " X | O | O\n",
      "   |   |\n",
      "-----------\n",
      "   |   |\n",
      " O | O | X\n",
      "   |   |\n",
      "-----------\n",
      "   |   |\n",
      " X | O | X\n",
      "   |   |\n",
      "Player 1: You have won the game\n",
      "Do you want to play again? Yes or No:no\n"
     ]
    }
   ],
   "source": [
    "print(\"Welcome to Tic-Tac-Toe game\")\n",
    "while True:\n",
    "    theBoard = [\" \"] * 10\n",
    "    player1_marker,player2_marker = choose_player()\n",
    "    turn = 'Player 1'\n",
    "    print(f'Player 1 picked {player1_marker} and Player 2 is {player2_marker}')\n",
    "    print('Player1 will go first')\n",
    "    play_game = input(\"Are you ready to start the game, Enter Yes or No\")\n",
    "    if play_game.lower()[0] == 'y':\n",
    "        game_on = True\n",
    "    else:\n",
    "        game_on = False\n",
    "    while game_on:\n",
    "        if turn == 'Player 1':\n",
    "            display_board(theBoard)\n",
    "            print(f'It is {turn} turn')\n",
    "            position = player_choice(theBoard)\n",
    "            player_input(theBoard,player1_marker,position)\n",
    "            if check_winner(theBoard,player1_marker):\n",
    "                display_board(theBoard)\n",
    "                print(\"Player 1: You have won the game\")\n",
    "                game_on=False\n",
    "            else:\n",
    "                if full_board_check(theBoard):\n",
    "                    display_board(theBoard)\n",
    "                    print(\"The game is a draw\")\n",
    "                    break\n",
    "                else:\n",
    "                    print(\"hello\")\n",
    "                    turn = \"Player 2\"\n",
    "        else:\n",
    "            display_board(theBoard)\n",
    "            print(f'It is {turn} turn')\n",
    "            position = player_choice(theBoard)\n",
    "            player_input(theBoard,player2_marker,position)\n",
    "            if check_winner(theBoard,player2_marker):\n",
    "                display_board(theBoard)\n",
    "                print(\"Player 2: You have won the game\")\n",
    "                game_on=False\n",
    "            else:\n",
    "                if full_board_check(theBoard):\n",
    "                    display_board(theBoard)\n",
    "                    print(\"The game is a draw\")\n",
    "                    break\n",
    "                else:\n",
    "                    turn = \"Player 1\"\n",
    "    if not play_again():\n",
    "        break"
   ]
  },
  {
   "cell_type": "code",
   "execution_count": null,
   "metadata": {},
   "outputs": [],
   "source": []
  }
 ],
 "metadata": {
  "interpreter": {
   "hash": "916dbcbb3f70747c44a77c7bcd40155683ae19c65e1c03b4aa3499c5328201f1"
  },
  "kernelspec": {
   "display_name": "Python 3",
   "language": "python",
   "name": "python3"
  },
  "language_info": {
   "codemirror_mode": {
    "name": "ipython",
    "version": 3
   },
   "file_extension": ".py",
   "mimetype": "text/x-python",
   "name": "python",
   "nbconvert_exporter": "python",
   "pygments_lexer": "ipython3",
   "version": "3.7.3"
  }
 },
 "nbformat": 4,
 "nbformat_minor": 2
}
